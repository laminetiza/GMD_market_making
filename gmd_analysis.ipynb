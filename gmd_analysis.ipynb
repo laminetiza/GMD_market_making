{
 "cells": [
  {
   "cell_type": "code",
   "execution_count": 3,
   "metadata": {},
   "outputs": [
    {
     "name": "stdout",
     "output_type": "stream",
     "text": [
      "The autoreload extension is already loaded. To reload it, use:\n",
      "  %reload_ext autoreload\n"
     ]
    }
   ],
   "source": [
    "import numpy as np\n",
    "import pandas as pd\n",
    "from my_gmd import *\n",
    "from scipy.stats import norm\n",
    "from scipy.optimize import fixed_point\n",
    "import matplotlib.pyplot as plt\n",
    "from warnings import warn\n",
    "from typing import Optional\n",
    "plt.style.use('bmh')\n",
    "\n",
    "%load_ext autoreload\n",
    "%autoreload 2"
   ]
  },
  {
   "attachments": {},
   "cell_type": "markdown",
   "metadata": {},
   "source": [
    "# 1. Analysis"
   ]
  },
  {
   "cell_type": "code",
   "execution_count": 2,
   "metadata": {},
   "outputs": [],
   "source": [
    "paper_simul = GMD_simluation(tmax=30, \n",
    "                        sigma_price=0.5, \n",
    "                        proba_jump=0.001, \n",
    "                        alpha=0.5, \n",
    "                        eta=0.5, \n",
    "                        sigma_noise=0.05,\n",
    "                        V0=100, \n",
    "                        multiplier=50)"
   ]
  },
  {
   "cell_type": "code",
   "execution_count": null,
   "metadata": {},
   "outputs": [],
   "source": [
    "s1 = GMD_simluation()"
   ]
  }
 ],
 "metadata": {
  "kernelspec": {
   "display_name": "market_making",
   "language": "python",
   "name": "python3"
  },
  "language_info": {
   "codemirror_mode": {
    "name": "ipython",
    "version": 3
   },
   "file_extension": ".py",
   "mimetype": "text/x-python",
   "name": "python",
   "nbconvert_exporter": "python",
   "pygments_lexer": "ipython3",
   "version": "3.9.15"
  },
  "orig_nbformat": 4,
  "vscode": {
   "interpreter": {
    "hash": "1c44ef55766d9cad225cfced3e533afa0e61769f5d9629b33854653d3c753bd9"
   }
  }
 },
 "nbformat": 4,
 "nbformat_minor": 2
}
